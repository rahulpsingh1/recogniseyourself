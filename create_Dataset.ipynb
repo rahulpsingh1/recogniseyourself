{
 "cells": [
  {
   "cell_type": "code",
   "execution_count": null,
   "metadata": {},
   "outputs": [],
   "source": [
    "import cv2\n",
    "import time\n",
    "import os\n",
    "\n",
    "par_path = r\"C:\\Users\\RAIDEN\\Desktop\\face_reco_project\\face_img\\\\\"\n",
    "\n",
    "\n",
    "print(\"enter name of person: \")\n",
    "name = input()\n",
    "path = os.path.join(par_path, name) \n",
    "\n",
    "try:  \n",
    "    os.mkdir(path)  \n",
    "except OSError:  \n",
    "    print(\"directory name already exists\")\n",
    "    exit(0)\n",
    "\n",
    "\n",
    "face_cascade = cv2.CascadeClassifier('haarcascade_frontalface_default.xml')\n",
    "\n",
    "cam = cv2.VideoCapture(0)\n",
    "cv2.namedWindow(\"test\")\n",
    "time.sleep(3)\n",
    "\n",
    "\n",
    "\n",
    "def face(frame):\n",
    "    gray = cv2.cvtColor(frame, cv2.COLOR_BGR2GRAY)\n",
    "    faces = face_cascade.detectMultiScale(gray, 1.3, 5)\n",
    "    \n",
    "    \n",
    "    for (x,y,w,h) in faces:\n",
    "        roi_gray = gray[y:y+h, x:x+w]        \n",
    "        return roi_gray\n",
    "\n",
    "\n",
    "img_counter = 0\n",
    "while True:\n",
    "    ret, frame = cam.read()\n",
    "    cv2.imshow(\"test\", frame)\n",
    "    \n",
    "    frame = face(frame)\n",
    "    \n",
    "    if(frame is None):\n",
    "        continue\n",
    "    \n",
    "    frame = cv2.resize(frame,(128,128),interpolation = cv2.INTER_AREA)\n",
    "    \n",
    "    \n",
    "    if not ret:\n",
    "        print(\"webcam not working\")\n",
    "        break\n",
    "    k = cv2.waitKey(1)\n",
    "\n",
    "        \n",
    "    if k%256 == 27:\n",
    "        # ESC pressed\n",
    "        print(\"Escape hit, closing...\")\n",
    "        break\n",
    "    \n",
    "    img_name = \"testImg{}.png\".format(img_counter)\n",
    "    cv2.imwrite(os.path.join(par_path+name , img_name), frame)\n",
    "    img_counter+=1\n",
    "    print(\"{} written!\".format(img_name))\n",
    "    \n",
    "\n",
    "cam.release()\n",
    "time.sleep(3)\n",
    "cv2.destroyAllWindows()"
   ]
  },
  {
   "cell_type": "code",
   "execution_count": null,
   "metadata": {},
   "outputs": [],
   "source": []
  },
  {
   "cell_type": "code",
   "execution_count": null,
   "metadata": {},
   "outputs": [],
   "source": []
  }
 ],
 "metadata": {
  "kernelspec": {
   "display_name": "Python 3",
   "language": "python",
   "name": "python3"
  },
  "language_info": {
   "codemirror_mode": {
    "name": "ipython",
    "version": 3
   },
   "file_extension": ".py",
   "mimetype": "text/x-python",
   "name": "python",
   "nbconvert_exporter": "python",
   "pygments_lexer": "ipython3",
   "version": "3.6.8"
  },
  "widgets": {
   "application/vnd.jupyter.widget-state+json": {
    "state": {},
    "version_major": 2,
    "version_minor": 0
   }
  }
 },
 "nbformat": 4,
 "nbformat_minor": 2
}
