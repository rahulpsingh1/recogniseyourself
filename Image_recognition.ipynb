{
 "cells": [
  {
   "cell_type": "code",
   "execution_count": null,
   "metadata": {},
   "outputs": [],
   "source": [
    "from numpy import loadtxt\n",
    "from keras.models import load_model\n",
    "\n",
    "model = load_model(\"face_recognition.h5\")"
   ]
  },
  {
   "cell_type": "code",
   "execution_count": null,
   "metadata": {},
   "outputs": [],
   "source": [
    "import time\n",
    "import matplotlib.pyplot as plt\n",
    "import cv2\n",
    "\n",
    "face_cascade = cv2.CascadeClassifier('haarcascade_frontalface_default.xml') \n",
    "\n",
    "\n",
    "def face(frame):\n",
    "    gray = cv2.cvtColor(frame, cv2.COLOR_BGR2GRAY)\n",
    "    faces = face_cascade.detectMultiScale(gray, 1.3, 5)\n",
    "    \n",
    "    \n",
    "    for (x,y,w,h) in faces:\n",
    "        roi_gray = gray[y:y+h, x:x+w]\n",
    "        #roi_color = frame[y:y+h, x:x+w]\n",
    "        \n",
    "        return roi_gray\n",
    "\n",
    "\n",
    "cam = cv2.VideoCapture(0)\n",
    "time.sleep(3)\n",
    "cv2.namedWindow(\"test\")\n",
    "\n",
    "#img_counter = 0\n",
    "while True:\n",
    "    ret, frame = cam.read()\n",
    "    \n",
    "    cv2.imshow(\"test\", frame)\n",
    "    \n",
    "        \n",
    "    \n",
    "        \n",
    "    if not ret:\n",
    "        print(\"webcam not working\")\n",
    "        break\n",
    "        \n",
    "    k = cv2.waitKey(1)\n",
    "\n",
    "    if k%256 == 27:\n",
    "        # when esc pressed\n",
    "        print(\"Escape hit, closing...\")\n",
    "        break\n",
    "                \n",
    "                \n",
    "    elif k%256 == 32:\n",
    "        frame = face(frame)\n",
    "        \n",
    "        if(frame is None):\n",
    "            continue\n",
    "        \n",
    "        # when space pressed\n",
    "        img_name = \"opencv_frame.png\"\n",
    "        cv2.imwrite(img_name, frame)\n",
    "        print(\"{} written!\".format(img_name))\n",
    "\n",
    "        #compress\n",
    "\n",
    "        pict = cv2.imread(\"opencv_frame.png\")\n",
    "        #pict = cv2.cvtColor(pic, cv2.COLOR_BGR2GRAY)\n",
    "        pict1=cv2.resize(pict,(128,128),interpolation = cv2.INTER_AREA)\n",
    "        print(pict1.shape)\n",
    "        plt.imshow(pict1)\n",
    "        cv2.imwrite('./image_test.png',pict1)\n",
    "        pic = cv2.imread('./image_test.png', cv2.IMREAD_GRAYSCALE)\n",
    "        #pic = pic.reshape([-1,128, 128,1])\n",
    "        break\n",
    "    \n",
    "cam.release()\n",
    "time.sleep(3)\n",
    "cv2.destroyAllWindows()"
   ]
  },
  {
   "cell_type": "code",
   "execution_count": null,
   "metadata": {},
   "outputs": [],
   "source": [
    "import numpy as np\n",
    "pic = np.array(pic)\n",
    "pic = pic.reshape([-1,128, 128,1])\n",
    "pic.shape"
   ]
  },
  {
   "cell_type": "code",
   "execution_count": null,
   "metadata": {},
   "outputs": [],
   "source": [
    "t = model.predict(pic)\n",
    "print(t)\n",
    "t = np.argmax(t, axis = 1)"
   ]
  },
  {
   "cell_type": "code",
   "execution_count": null,
   "metadata": {},
   "outputs": [],
   "source": [
    "dic = {\"sandeep\":0, \"rahul\":1, \"sajan\":2, \"karishma\":3, \"utkarsh\":4, \"aashu\":5}\n",
    "inv_dict = {v: k for k, v in dic.items()} "
   ]
  },
  {
   "cell_type": "code",
   "execution_count": null,
   "metadata": {},
   "outputs": [],
   "source": [
    "inv_dict"
   ]
  },
  {
   "cell_type": "code",
   "execution_count": null,
   "metadata": {},
   "outputs": [],
   "source": [
    "inv_dict[t[0]]"
   ]
  },
  {
   "cell_type": "code",
   "execution_count": null,
   "metadata": {},
   "outputs": [],
   "source": []
  },
  {
   "cell_type": "code",
   "execution_count": null,
   "metadata": {},
   "outputs": [],
   "source": []
  }
 ],
 "metadata": {
  "kernelspec": {
   "display_name": "Python 3",
   "language": "python",
   "name": "python3"
  },
  "language_info": {
   "codemirror_mode": {
    "name": "ipython",
    "version": 3
   },
   "file_extension": ".py",
   "mimetype": "text/x-python",
   "name": "python",
   "nbconvert_exporter": "python",
   "pygments_lexer": "ipython3",
   "version": "3.6.8"
  }
 },
 "nbformat": 4,
 "nbformat_minor": 2
}
